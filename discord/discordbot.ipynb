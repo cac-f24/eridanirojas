{
 "cells": [
  {
   "cell_type": "code",
   "execution_count": null,
   "id": "359f9538-4c46-4b76-b087-9d5d3385d039",
   "metadata": {},
   "outputs": [],
   "source": [
    "import discord\n",
    "from discord.ext import commands\n",
    "import re"
   ]
  },
  {
   "cell_type": "code",
   "execution_count": null,
   "id": "d31e74e9-7388-47b6-8eef-5359dc904dbd",
   "metadata": {},
   "outputs": [],
   "source": [
    "TOKEN = 'bot token goes here'"
   ]
  },
  {
   "cell_type": "code",
   "execution_count": null,
   "id": "f86e681e-36dc-4c89-9eca-c948bdb4f4e7",
   "metadata": {},
   "outputs": [],
   "source": [
    "intents = discord.Intents.default()\n",
    "intents.messages = True\n",
    "intents.message_content = True\n",
    "bot = commands.Bot(command_prefix=\"!\", intents=intents)"
   ]
  },
  {
   "cell_type": "code",
   "execution_count": null,
   "id": "2230cdf3-8769-4a4a-bd39-054542cd2411",
   "metadata": {},
   "outputs": [],
   "source": [
    "@bot.event\n",
    "async def on_ready():\n",
    "    print(f\"Logged in as {bot.user}!\")"
   ]
  },
  {
   "cell_type": "code",
   "execution_count": null,
   "id": "973581e2-90ec-4f30-b0c1-ea4ddd4bbc1f",
   "metadata": {},
   "outputs": [],
   "source": [
    "@bot.event\n",
    "async def on_message(message):\n",
    "    if message.author == bot.user:\n",
    "        return\n",
    "    pattern = r\"Wordle \\d{1,4} \\d/6\"\n",
    "    if re.search(pattern, message.content):\n",
    "        await message.channel.send(f\"{message.author.mention} Good work!\")\n",
    "    await bot.process_commands(message)\n",
    "bot.run(TOKEN)"
   ]
  }
 ],
 "metadata": {
  "kernelspec": {
   "display_name": "Python 3 (ipykernel)",
   "language": "python",
   "name": "python3"
  },
  "language_info": {
   "codemirror_mode": {
    "name": "ipython",
    "version": 3
   },
   "file_extension": ".py",
   "mimetype": "text/x-python",
   "name": "python",
   "nbconvert_exporter": "python",
   "pygments_lexer": "ipython3",
   "version": "3.12.2"
  }
 },
 "nbformat": 4,
 "nbformat_minor": 5
}
