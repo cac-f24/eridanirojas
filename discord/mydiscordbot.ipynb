{
 "cells": [
  {
   "cell_type": "code",
   "execution_count": null,
   "id": "188886d1-2b81-492d-bd2e-b8bcabc8da8d",
   "metadata": {},
   "outputs": [],
   "source": [
    "import discord\n",
    "from discord.ext import commands"
   ]
  },
  {
   "cell_type": "code",
   "execution_count": null,
   "id": "cff47f20-26c8-43eb-8d17-0a0d689eed6c",
   "metadata": {},
   "outputs": [],
   "source": [
    "channel = \"1339693004117508258\"\n",
    "token = \"MTMzNjQ2MDgxNTEzMzU3NzIyNg.GwwNRm.JQFdcyM-vQHKj6dLIQ0SHp3dgTgdctXoT-shkk\""
   ]
  },
  {
   "cell_type": "code",
   "execution_count": null,
   "id": "14f6fb13-0b2a-4fad-9e67-ffbbe4790036",
   "metadata": {},
   "outputs": [],
   "source": [
    "class MyClient(discord.Client):\n",
    "    async def on_ready(self):\n",
    "        print(f'Logged in as {self.user} (ID: {self.user.id})')\n",
    "        print('------')\n",
    "\n",
    "    async def on_message(self, message):\n",
    "        # we do not want the bot to reply to itself\n",
    "        if message.author.id == self.user.id:\n",
    "            return\n",
    "\n",
    "        if message.content.startswith('!hello'):\n",
    "            await message.reply('Hello!', mention_author=True)"
   ]
  },
  {
   "cell_type": "code",
   "execution_count": null,
   "id": "aadea8ac-c768-4095-8bc2-6c1884ce1edb",
   "metadata": {},
   "outputs": [],
   "source": [
    "intents = discord.Intents.default()\n",
    "intents.message_content = True"
   ]
  },
  {
   "cell_type": "code",
   "execution_count": null,
   "id": "0c217ea1-575e-4814-88ce-411e26ae08fc",
   "metadata": {},
   "outputs": [],
   "source": [
    "client = MyClient(intents=intents)\n",
    "client.run(token)"
   ]
  }
 ],
 "metadata": {
  "kernelspec": {
   "display_name": "Python 3 (ipykernel)",
   "language": "python",
   "name": "python3"
  },
  "language_info": {
   "codemirror_mode": {
    "name": "ipython",
    "version": 3
   },
   "file_extension": ".py",
   "mimetype": "text/x-python",
   "name": "python",
   "nbconvert_exporter": "python",
   "pygments_lexer": "ipython3",
   "version": "3.13.1"
  }
 },
 "nbformat": 4,
 "nbformat_minor": 5
}
