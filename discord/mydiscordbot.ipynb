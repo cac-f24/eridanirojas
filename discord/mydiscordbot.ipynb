{
 "cells": [
  {
   "cell_type": "code",
   "execution_count": 10,
   "id": "188886d1-2b81-492d-bd2e-b8bcabc8da8d",
   "metadata": {},
   "outputs": [],
   "source": [
    "import discord\n",
    "from discord.ext import commands"
   ]
  },
  {
   "cell_type": "code",
<<<<<<< HEAD
   "execution_count": null,
   "id": "cff47f20-26c8-43eb-8d17-0a0d689eed6c",
   "metadata": {},
   "outputs": [],
   "source": [
    "channel = \"channel id\"\n",
    "token = \"token\""
   ]
  },
  {
   "cell_type": "code",
   "execution_count": null,
   "id": "14f6fb13-0b2a-4fad-9e67-ffbbe4790036",
   "metadata": {},
   "outputs": [],
   "source": [
    "class MyClient(discord.Client):\n",
    "    async def on_ready(self):\n",
    "        print(f'Logged in as {self.user} (ID: {self.user.id})')\n",
    "        print('------')\n",
    "\n",
    "    async def on_message(self, message):\n",
    "        # we do not want the bot to reply to itself\n",
    "        if message.author.id == self.user.id:\n",
    "            return\n",
    "\n",
    "        if message.content.startswith('!hello'):\n",
    "            await message.reply('Hello!', mention_author=True)"
   ]
  },
  {
   "cell_type": "code",
   "execution_count": null,
   "id": "aadea8ac-c768-4095-8bc2-6c1884ce1edb",
   "metadata": {},
   "outputs": [],
   "source": [
    "intents = discord.Intents.default()\n",
    "intents.message_content = True"
=======
   "execution_count": 2,
   "id": "cff47f20-26c8-43eb-8d17-0a0d689eed6c",
   "metadata": {},
   "outputs": [],
   "source": [
    "channel = \"id\"\n",
    "token = \"token\""
>>>>>>> 11467bff1188a842a772e37db2da4d74324b11c8
   ]
  },
  {
   "cell_type": "code",
<<<<<<< HEAD
   "execution_count": null,
   "id": "0c217ea1-575e-4814-88ce-411e26ae08fc",
   "metadata": {},
   "outputs": [],
   "source": [
    "client = MyClient(intents=intents)\n",
    "client.run(token)"
=======
   "execution_count": 12,
   "id": "e6d78954-21dd-4e92-b01f-5a1c7c284d40",
   "metadata": {},
   "outputs": [],
   "source": [
    "bot = commands.Bot(command_prefix = \"!\", intents = discord.Intents.all())"
   ]
  },
  {
   "cell_type": "code",
   "execution_count": 19,
   "id": "9924acec-54e5-4af4-80bc-210495582716",
   "metadata": {},
   "outputs": [],
   "source": [
    "@bot.event\n",
    "async def on_ready():\n",
    "    print(\"Hello!\")\n",
    "    channel = bot.get_channel(channel)\n",
    "    await channel.send(\"Hello!\")"
   ]
  },
  {
   "cell_type": "code",
   "execution_count": 20,
   "id": "1a45bc40-982f-4a62-801e-d494a060e5bc",
   "metadata": {},
   "outputs": [
    {
     "ename": "RuntimeError",
     "evalue": "asyncio.run() cannot be called from a running event loop",
     "output_type": "error",
     "traceback": [
      "\u001b[0;31m---------------------------------------------------------------------------\u001b[0m",
      "\u001b[0;31mRuntimeError\u001b[0m                              Traceback (most recent call last)",
      "Cell \u001b[0;32mIn[20], line 1\u001b[0m\n\u001b[0;32m----> 1\u001b[0m \u001b[43mbot\u001b[49m\u001b[38;5;241;43m.\u001b[39;49m\u001b[43mrun\u001b[49m\u001b[43m(\u001b[49m\u001b[43mtoken\u001b[49m\u001b[43m)\u001b[49m\n",
      "File \u001b[0;32m~/miniconda3/envs/discord/lib/python3.13/site-packages/discord/client.py:860\u001b[0m, in \u001b[0;36mClient.run\u001b[0;34m(self, token, reconnect, log_handler, log_formatter, log_level, root_logger)\u001b[0m\n\u001b[1;32m    852\u001b[0m     utils\u001b[38;5;241m.\u001b[39msetup_logging(\n\u001b[1;32m    853\u001b[0m         handler\u001b[38;5;241m=\u001b[39mlog_handler,\n\u001b[1;32m    854\u001b[0m         formatter\u001b[38;5;241m=\u001b[39mlog_formatter,\n\u001b[1;32m    855\u001b[0m         level\u001b[38;5;241m=\u001b[39mlog_level,\n\u001b[1;32m    856\u001b[0m         root\u001b[38;5;241m=\u001b[39mroot_logger,\n\u001b[1;32m    857\u001b[0m     )\n\u001b[1;32m    859\u001b[0m \u001b[38;5;28;01mtry\u001b[39;00m:\n\u001b[0;32m--> 860\u001b[0m     \u001b[43masyncio\u001b[49m\u001b[38;5;241;43m.\u001b[39;49m\u001b[43mrun\u001b[49m\u001b[43m(\u001b[49m\u001b[43mrunner\u001b[49m\u001b[43m(\u001b[49m\u001b[43m)\u001b[49m\u001b[43m)\u001b[49m\n\u001b[1;32m    861\u001b[0m \u001b[38;5;28;01mexcept\u001b[39;00m \u001b[38;5;167;01mKeyboardInterrupt\u001b[39;00m:\n\u001b[1;32m    862\u001b[0m     \u001b[38;5;66;03m# nothing to do here\u001b[39;00m\n\u001b[1;32m    863\u001b[0m     \u001b[38;5;66;03m# `asyncio.run` handles the loop cleanup\u001b[39;00m\n\u001b[1;32m    864\u001b[0m     \u001b[38;5;66;03m# and `self.start` closes all sockets and the HTTPClient instance.\u001b[39;00m\n\u001b[1;32m    865\u001b[0m     \u001b[38;5;28;01mreturn\u001b[39;00m\n",
      "File \u001b[0;32m~/miniconda3/envs/discord/lib/python3.13/asyncio/runners.py:190\u001b[0m, in \u001b[0;36mrun\u001b[0;34m(main, debug, loop_factory)\u001b[0m\n\u001b[1;32m    161\u001b[0m \u001b[38;5;250m\u001b[39m\u001b[38;5;124;03m\"\"\"Execute the coroutine and return the result.\u001b[39;00m\n\u001b[1;32m    162\u001b[0m \n\u001b[1;32m    163\u001b[0m \u001b[38;5;124;03mThis function runs the passed coroutine, taking care of\u001b[39;00m\n\u001b[0;32m   (...)\u001b[0m\n\u001b[1;32m    186\u001b[0m \u001b[38;5;124;03m    asyncio.run(main())\u001b[39;00m\n\u001b[1;32m    187\u001b[0m \u001b[38;5;124;03m\"\"\"\u001b[39;00m\n\u001b[1;32m    188\u001b[0m \u001b[38;5;28;01mif\u001b[39;00m events\u001b[38;5;241m.\u001b[39m_get_running_loop() \u001b[38;5;129;01mis\u001b[39;00m \u001b[38;5;129;01mnot\u001b[39;00m \u001b[38;5;28;01mNone\u001b[39;00m:\n\u001b[1;32m    189\u001b[0m     \u001b[38;5;66;03m# fail fast with short traceback\u001b[39;00m\n\u001b[0;32m--> 190\u001b[0m     \u001b[38;5;28;01mraise\u001b[39;00m \u001b[38;5;167;01mRuntimeError\u001b[39;00m(\n\u001b[1;32m    191\u001b[0m         \u001b[38;5;124m\"\u001b[39m\u001b[38;5;124masyncio.run() cannot be called from a running event loop\u001b[39m\u001b[38;5;124m\"\u001b[39m)\n\u001b[1;32m    193\u001b[0m \u001b[38;5;28;01mwith\u001b[39;00m Runner(debug\u001b[38;5;241m=\u001b[39mdebug, loop_factory\u001b[38;5;241m=\u001b[39mloop_factory) \u001b[38;5;28;01mas\u001b[39;00m runner:\n\u001b[1;32m    194\u001b[0m     \u001b[38;5;28;01mreturn\u001b[39;00m runner\u001b[38;5;241m.\u001b[39mrun(main)\n",
      "\u001b[0;31mRuntimeError\u001b[0m: asyncio.run() cannot be called from a running event loop"
     ]
    }
   ],
   "source": [
    "bot.run(token)"
>>>>>>> 11467bff1188a842a772e37db2da4d74324b11c8
   ]
  },
  {
   "cell_type": "code",
   "execution_count": null,
   "id": "45423bb1-e386-420f-a437-dfbf7848a3b5",
   "metadata": {},
   "outputs": [],
   "source": []
  }
 ],
 "metadata": {
  "kernelspec": {
   "display_name": "Python 3 (ipykernel)",
   "language": "python",
   "name": "python3"
  },
  "language_info": {
   "codemirror_mode": {
    "name": "ipython",
    "version": 3
   },
   "file_extension": ".py",
   "mimetype": "text/x-python",
   "name": "python",
   "nbconvert_exporter": "python",
   "pygments_lexer": "ipython3",
   "version": "3.13.1"
  }
 },
 "nbformat": 4,
 "nbformat_minor": 5
}
