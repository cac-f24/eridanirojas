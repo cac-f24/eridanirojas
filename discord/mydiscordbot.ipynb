{
 "cells": [
  {
   "cell_type": "code",
   "execution_count": null,
   "id": "188886d1-2b81-492d-bd2e-b8bcabc8da8d",
   "metadata": {},
   "outputs": [],
   "source": [
    "import discord\n",
    "from discord.ext import commands"
   ]
  },
  {
   "cell_type": "code",
   "execution_count": null,
   "id": "d0161989-bbe8-495c-bd47-b1e1a9570794",
   "metadata": {},
   "outputs": [],
   "source": [
    "intents = discord.Intents.default()\n",
    "intents.members = True"
   ]
  },
  {
   "cell_type": "code",
   "execution_count": null,
   "id": "be6c399d-524b-4f25-a5aa-cc1c94279ecd",
   "metadata": {},
   "outputs": [],
   "source": [
    "bot = commands.Bot(command_prefix=\"!\", intents=intents)"
   ]
  },
  {
   "cell_type": "code",
   "execution_count": null,
   "id": "7abcbf21-8fe3-4899-ba0c-74f5003db3bc",
   "metadata": {},
   "outputs": [],
   "source": [
    "members = \"members.txt\""
   ]
  },
  {
   "cell_type": "code",
   "execution_count": null,
   "id": "e8b08a54-3824-4cc0-9786-e3a3e503d4a5",
   "metadata": {},
   "outputs": [],
   "source": [
    "@bot.event\n",
    "async def on_ready():\n",
    "    print(f'Logged in as {bot.user}')"
   ]
  },
  {
   "cell_type": "code",
   "execution_count": null,
   "id": "d375786d-57a0-4ef0-9b1f-3d8bd7781fd4",
   "metadata": {},
   "outputs": [],
   "source": [
    "@bot.event\n",
    "async def on_member_join(member):\n",
    "    channel = discord.utils.get(member.guild.text_channels, name=\"general\")\n",
    "    if channel:\n",
    "        await channel.send(f'Welcome to the server, {member.mention}!')\n",
    "\n",
    "    with open(members, \"a\") as file:\n",
    "        file.write(f\"{member.name}#{member.discriminator}\\n\")"
   ]
  },
  {
   "cell_type": "code",
   "execution_count": null,
   "id": "7ed36bc0-b5fd-46e7-bac9-475c21862d59",
   "metadata": {},
   "outputs": [],
   "source": [
    "token = \"my bot token\"\n",
    "bot.run(token)"
   ]
  }
 ],
 "metadata": {
  "kernelspec": {
   "display_name": "Python 3 (ipykernel)",
   "language": "python",
   "name": "python3"
  },
  "language_info": {
   "codemirror_mode": {
    "name": "ipython",
    "version": 3
   },
   "file_extension": ".py",
   "mimetype": "text/x-python",
   "name": "python",
   "nbconvert_exporter": "python",
   "pygments_lexer": "ipython3",
   "version": "3.12.2"
  }
 },
 "nbformat": 4,
 "nbformat_minor": 5
}
