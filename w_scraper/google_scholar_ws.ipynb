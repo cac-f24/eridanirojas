{
 "cells": [
  {
   "cell_type": "code",
   "execution_count": 1,
   "id": "dadcd24e-7714-4153-9701-b6fd223ad9ce",
   "metadata": {},
   "outputs": [],
   "source": [
    "import requests\n",
    "from bs4 import BeautifulSoup\n",
    "import time"
   ]
  },
  {
   "cell_type": "code",
   "execution_count": 2,
   "id": "b96577d4-88cc-4dfb-9767-f9b28d38903a",
   "metadata": {},
   "outputs": [],
   "source": [
    "hrefs= [] #empty list that will contain article titles and their respective link"
   ]
  },
  {
   "cell_type": "code",
   "execution_count": 3,
   "id": "29a836fe-7dc0-4247-ada4-7a97ab1a12a3",
   "metadata": {},
   "outputs": [],
   "source": [
    "def scraper(page_numbers, search_query):\n",
    "    for i in page_numbers:\n",
    "        page_to_scrape = requests.get(f\"https://scholar.google.com/scholar?start={i}&q={search_query}&hl=en&as_sdt=0,13\") #getting html from target\n",
    "        soup = BeautifulSoup(page_to_scrape.text, \"html.parser\") #parsing html with b4s\n",
    "        results = soup.find_all(\"h3\", class_=\"gs_rt\") #outputting all instances of h3 tag containing class \"gs_rt\"\n",
    "        \n",
    "        for result in results:\n",
    "            link_tag = result.find('a') #finds all \"a\" tags within results \n",
    "            if link_tag:\n",
    "                href = link_tag.get('href') #fetches the link for the article\n",
    "                title = link_tag.text.strip() #omits all values except for text in order to save title\n",
    "                print(title, href)\n",
    "                hrefs.append([title,href]) #appending to list, could even do a pandas df if you wanted\n",
    "                time.sleep(2)"
   ]
  },
  {
   "cell_type": "code",
   "execution_count": 4,
   "id": "da2b662f-ead9-4a50-8005-a62159b2961c",
   "metadata": {},
   "outputs": [],
   "source": [
    "page_numbers = [10,20] #in increments in 10, as the google scholar URL navigates results through 10s rather than ones\n",
    "search_query = \"Electrical Conductivity\" #replace with what you want to search for"
   ]
  },
  {
   "cell_type": "code",
   "execution_count": 5,
   "id": "73eec5a9-49c8-473c-bd36-2e413585992f",
   "metadata": {},
   "outputs": [
    {
     "name": "stdout",
     "output_type": "stream",
     "text": [
      "Electrical conductivity in inhomogeneous media https://pubs.aip.org/aip/acp/article-abstract/40/1/2/620082\n",
      "Models proposed to explain the electrical conductivity of mixtures made of conductive and insulating materials https://link.springer.com/article/10.1007/bf00357799\n",
      "Electrical conductivity and resistivity https://www.academia.edu/download/49560290/ECaR.pdf\n",
      "On the electrical conductivity of violanthrone, iso‐violanthrone, and pyranthrone https://pubs.aip.org/aip/jcp/article-abstract/18/6/810/201324\n",
      "Effects of liquid‐phase electrical conductivity, water content, and surface conductivity on bulk soil electrical conductivity https://acsess.onlinelibrary.wiley.com/doi/abs/10.2136/sssaj1976.03615995004000050017x\n",
      "A new method for the evaluation of electric conductivity in metals https://www.tandfonline.com/doi/abs/10.1080/14786435808243244\n",
      "Electrical conductivity of some hydroxyapatites https://www.sciencedirect.com/science/article/pii/0013468678800760\n",
      "Electrical conductivity in soils: Underlying phenomena https://library.seg.org/doi/abs/10.4133/JEEG8.4.263\n",
      "The electrical conductivity of an ionized gas https://journals.aps.org/pr/abstract/10.1103/PhysRev.80.230\n",
      "Analysis of electrical conductivity imaging https://library.seg.org/doi/abs/10.1190/1.1441240\n",
      "Estimation of the electrical conductivity of human tissue https://www.tandfonline.com/doi/abs/10.1080/027263401752246199\n",
      "A new method of calculating electrical conductivity with applications to natural waters https://www.sciencedirect.com/science/article/pii/S0016703711006181\n",
      "Electrical conductivity in disordered systems https://www.sciencedirect.com/science/article/pii/0038109873903335\n",
      "Evaluation of electrical conductivity models for conductive polymer composites https://onlinelibrary.wiley.com/doi/abs/10.1002/app.10014\n",
      "Ultrahigh strength and high electrical conductivity in copper https://www.science.org/doi/abs/10.1126/science.1092905\n",
      "Measurements of thermal conductivity and electrical conductivity of a single carbon fiber https://link.springer.com/article/10.1023/A:1006674510648\n",
      "Electrical conductivity of a graphite layer https://journals.aps.org/prb/abstract/10.1103/PhysRevB.22.904\n",
      "The electrical conductivity of titanium dioxide https://journals.aps.org/pr/abstract/10.1103/PhysRev.61.56\n",
      "Electrical conductivity of a superconductor https://journals.aps.org/pr/abstract/10.1103/PhysRev.188.745\n",
      "Electrical conductivity and soluble ions http://www.irssct.com/fa/wp-content/uploads/2019/03/methods_of_analysis_212-2008.pdf#page=187\n"
     ]
    }
   ],
   "source": [
    "scraper(page_numbers, search_query)"
   ]
  },
  {
   "cell_type": "code",
   "execution_count": null,
   "id": "acaa2063-4526-45a1-8a03-0e973824ace2",
   "metadata": {},
   "outputs": [],
   "source": []
  }
 ],
 "metadata": {
  "kernelspec": {
   "display_name": "Python 3 (ipykernel)",
   "language": "python",
   "name": "python3"
  },
  "language_info": {
   "codemirror_mode": {
    "name": "ipython",
    "version": 3
   },
   "file_extension": ".py",
   "mimetype": "text/x-python",
   "name": "python",
   "nbconvert_exporter": "python",
   "pygments_lexer": "ipython3",
   "version": "3.12.5"
  }
 },
 "nbformat": 4,
 "nbformat_minor": 5
}
