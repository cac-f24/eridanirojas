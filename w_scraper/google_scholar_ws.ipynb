{
 "cells": [
  {
   "cell_type": "code",
   "execution_count": 89,
   "id": "dadcd24e-7714-4153-9701-b6fd223ad9ce",
   "metadata": {},
   "outputs": [],
   "source": [
    "import requests\n",
    "from bs4 import BeautifulSoup\n",
    "import time"
   ]
  },
  {
   "cell_type": "code",
   "execution_count": 90,
   "id": "b96577d4-88cc-4dfb-9767-f9b28d38903a",
   "metadata": {},
   "outputs": [],
   "source": [
    "hrefs= [] #empty list that will contain article titles and their respective link"
   ]
  },
  {
   "cell_type": "code",
   "execution_count": 91,
   "id": "29a836fe-7dc0-4247-ada4-7a97ab1a12a3",
   "metadata": {},
   "outputs": [],
   "source": [
    "def scraper(page_numbers, search_query):\n",
    "    for i in page_numbers:\n",
    "        page_to_scrape = requests.get(f\"https://scholar.google.com/scholar?start={i}&q={search_query}&hl=en&as_sdt=0,13\") #getting html from target\n",
    "        soup = BeautifulSoup(page_to_scrape.text, \"html.parser\") #parsing html with b4s\n",
    "        results = soup.find_all(\"h3\", class_=\"gs_rt\") #outputting all instances of h3 tag containing class \"gs_rt\"\n",
    "        \n",
    "        for result in results:\n",
    "            link_tag = result.find('a') #finds all \"a\" tags within results \n",
    "            if link_tag:\n",
    "                href = link_tag.get('href') #fetches the link for the article\n",
    "                title = link_tag.text.strip() #omits all values except for text in order to save title\n",
    "                print(title, href)\n",
    "                hrefs.append([title,href]) #appending to list, could even do a pandas df if you wanted\n",
    "                time.sleep(2)"
   ]
  },
  {
   "cell_type": "code",
   "execution_count": 92,
   "id": "da2b662f-ead9-4a50-8005-a62159b2961c",
   "metadata": {},
   "outputs": [],
   "source": [
    "page_numbers = [10,20] #in increments in 10, as the google scholar URL navigates results through 10s rather than ones\n",
    "search_query = \"Iron-Carbon Phase Diagram\" #replace with what you want to search for"
   ]
  },
  {
   "cell_type": "code",
   "execution_count": 93,
   "id": "73eec5a9-49c8-473c-bd36-2e413585992f",
   "metadata": {},
   "outputs": [
    {
     "name": "stdout",
     "output_type": "stream",
     "text": [
      "The system Iron-Carbon https://dwc.knaw.nl/DL/publications/PU00013177.pdf\n",
      "Iron—Carbon Fe—C https://link.springer.com/chapter/10.1007/978-3-662-08024-5_12\n",
      "Iron-carbon interactions at high temperatures and pressures https://pubs.aip.org/aip/apl/article/92/12/121912/334153\n",
      "Amorphous ferromagnetic phase in iron‐carbon‐phosphorus alloys https://pubs.aip.org/aip/jap/article-pdf/38/10/4096/18343280/4096_1_online.pdf\n",
      "The iron-carbon system. New developments—I. The pseudohexagonal iron carbide Fe7C3 and the Fe3C-Fe7C3 eutectic https://www.sciencedirect.com/science/article/pii/0001616073900035\n",
      "An Investigation on the Titanium-Iron-Carbon System https://repository.kulib.kyoto-u.ac.jp/dspace/handle/2433/280392\n",
      "Carbon–Iron–Tungsten: iron systems: phase diagrams, crystallographic and thermodynamic data https://link.springer.com/content/pdf/10.1007/978-3-540-74196-1_16.pdf\n",
      "Carbon–Iron–Titanium: iron systems: phase diagrams, crystallographic and thermodynamic data https://link.springer.com/chapter/10.1007/978-3-540-74196-1_13\n",
      "“Carbon in the core” revisited https://www.sciencedirect.com/science/article/pii/S0031920108001179\n",
      "Chernov's iron–carbon diagram, the structure and properties of steel https://link.springer.com/article/10.1007/s11041-009-9109-9\n",
      "C-Fe-Ti (carbon-iron-titanium) https://search.proquest.com/openview/f0c5e54123ce9013788d031bd87e16a8/1?pq-origsite=gscholar&cbl=29360\n",
      "The Iron-carbon System https://link.springer.com/content/pdf/10.1007/978-94-011-7068-0_8?pdf=chapter%20toc\n",
      "Binary and ternary interstitial alloys-II. The iron-carbon-nitrogen system https://royalsocietypublishing.org/doi/abs/10.1098/rspa.1948.0101\n",
      "Carbon–chromium–iron https://link.springer.com/content/pdf/10.1007/978-3-540-74196-1.pdf#page=20\n",
      "Iron—Binary phase diagrams https://books.google.com/books?hl=en&lr=&id=RQjtCAAAQBAJ&oi=fnd&pg=PR9&dq=Iron-Carbon+Phase+Diagram&ots=xUBS_ueO6e&sig=wxgnPGWzBhXjf7QKveY6FTKFuz0\n",
      "Carbon–Iron–Molybdenum: iron systems: phase diagrams, crystallographic and thermodynamic data https://link.springer.com/content/pdf/10.1007/978-3-540-74196-1_7.pdf\n",
      "The Fe-C diagram–History of its evolution https://www.hst-journal.com/index.php/hst/article/view/602\n",
      "Prediction of carbon nanotube growth success by the analysis of carbon–catalyst binary phase diagrams https://www.sciencedirect.com/science/article/pii/S0008622305004562\n",
      "Phase Diagram of Fe–100% C Alloys. Part One. Basic Inconsistencies of Fe–Fe3C Alloy Phase Diagram https://link.springer.com/article/10.3103/S0967091223020031\n"
     ]
    }
   ],
   "source": [
    "scraper(page_numbers, search_query)"
   ]
  }
 ],
 "metadata": {
  "kernelspec": {
   "display_name": "Python 3 (ipykernel)",
   "language": "python",
   "name": "python3"
  },
  "language_info": {
   "codemirror_mode": {
    "name": "ipython",
    "version": 3
   },
   "file_extension": ".py",
   "mimetype": "text/x-python",
   "name": "python",
   "nbconvert_exporter": "python",
   "pygments_lexer": "ipython3",
   "version": "3.12.5"
  }
 },
 "nbformat": 4,
 "nbformat_minor": 5
}
