{
 "cells": [
  {
   "cell_type": "code",
   "execution_count": 1,
   "id": "9ad70ead-132e-4265-9be3-40c7e58b344a",
   "metadata": {},
   "outputs": [],
   "source": [
    "import numpy as np"
   ]
  },
  {
   "cell_type": "code",
   "execution_count": 6,
   "id": "c472b63a-09ed-4127-a404-b714b68a4338",
   "metadata": {},
   "outputs": [],
   "source": [
    "def momentCalculator(r_x,r_y,r_z,magnitude,alpha,beta,gamma):\n",
    "    \" r_x, r_y, r_z are distance force is from moment point. magnitude, alpha, beta, gamma are magnitude and dimensions of force vector\"\n",
    "    r_OB = np.array([r_x,r_y,r_z])\n",
    "    print(f\"r_OB:{r_OB}\")\n",
    "    F = np.array([magnitude*np.cos(alpha), magnitude*np.cos(beta), magnitude*np.cos(gamma)])\n",
    "    M = np.cross(r_OB, F)\n",
    "    print(f\"Moment expressed in cartesian coordinates: {M}\")"
   ]
  },
  {
   "cell_type": "code",
   "execution_count": 7,
   "id": "e6984e34-7eea-44c6-b54d-ac1b895441c3",
   "metadata": {},
   "outputs": [
    {
     "name": "stdout",
     "output_type": "stream",
     "text": [
      "r_OB:[ 0.5  0.4 -0.3]\n",
      "Moment expressed in cartesian coordinates: [363.50646935  18.45031977 630.44454194]\n"
     ]
    }
   ],
   "source": [
    "momentCalculator(0.5,0.4,-0.3,800,60,120,45)"
   ]
  }
 ],
 "metadata": {
  "kernelspec": {
   "display_name": "Python 3 (ipykernel)",
   "language": "python",
   "name": "python3"
  },
  "language_info": {
   "codemirror_mode": {
    "name": "ipython",
    "version": 3
   },
   "file_extension": ".py",
   "mimetype": "text/x-python",
   "name": "python",
   "nbconvert_exporter": "python",
   "pygments_lexer": "ipython3",
   "version": "3.12.4"
  }
 },
 "nbformat": 4,
 "nbformat_minor": 5
}
